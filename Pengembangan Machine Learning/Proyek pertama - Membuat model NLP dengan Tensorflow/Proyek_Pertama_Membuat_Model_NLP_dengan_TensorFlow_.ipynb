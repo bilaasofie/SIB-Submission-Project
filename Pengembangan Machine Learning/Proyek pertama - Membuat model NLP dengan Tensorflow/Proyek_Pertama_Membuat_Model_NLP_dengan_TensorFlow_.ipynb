{
  "nbformat": 4,
  "nbformat_minor": 0,
  "metadata": {
    "colab": {
      "provenance": [],
      "collapsed_sections": []
    },
    "kernelspec": {
      "name": "python3",
      "display_name": "Python 3"
    },
    "language_info": {
      "name": "python"
    },
    "accelerator": "GPU",
    "gpuClass": "standard"
  },
  "cells": [
    {
      "cell_type": "markdown",
      "source": [
        "Nama : Nabilah Sofieyanti\n",
        "\n",
        "Proyek Pertama : Membuat Model NLP dengan TensorFlow\n",
        "\n",
        "Belajar Pengembangan Machine Learning"
      ],
      "metadata": {
        "id": "2GozxzJ_FN9R"
      }
    },
    {
      "cell_type": "code",
      "source": [
        "#import library\n",
        "import pandas as pd \n",
        "\n",
        "from sklearn.model_selection import train_test_split\n",
        "\n",
        "import tensorflow as tf\n",
        "from tensorflow.keras.preprocessing.text import Tokenizer\n",
        "from tensorflow.keras.preprocessing.sequence import pad_sequences\n",
        "\n",
        "import matplotlib.pyplot as plt"
      ],
      "metadata": {
        "id": "j9WcyA0pFhHN"
      },
      "execution_count": 12,
      "outputs": []
    },
    {
      "cell_type": "code",
      "execution_count": 13,
      "metadata": {
        "id": "FCvAKyWt0pPW"
      },
      "outputs": [],
      "source": [
        "df = pd.read_csv('IMDB Dataset.csv')"
      ]
    },
    {
      "cell_type": "code",
      "source": [
        "df.info()"
      ],
      "metadata": {
        "colab": {
          "base_uri": "https://localhost:8080/"
        },
        "id": "Jc3t7uy6XKnV",
        "outputId": "248ee10e-1bee-48bd-a9aa-0b102d7de474"
      },
      "execution_count": 24,
      "outputs": [
        {
          "output_type": "stream",
          "name": "stdout",
          "text": [
            "<class 'pandas.core.frame.DataFrame'>\n",
            "RangeIndex: 50000 entries, 0 to 49999\n",
            "Data columns (total 2 columns):\n",
            " #   Column     Non-Null Count  Dtype \n",
            "---  ------     --------------  ----- \n",
            " 0   review     50000 non-null  object\n",
            " 1   sentiment  50000 non-null  object\n",
            "dtypes: object(2)\n",
            "memory usage: 781.4+ KB\n"
          ]
        }
      ]
    },
    {
      "cell_type": "code",
      "source": [
        "df.head()"
      ],
      "metadata": {
        "colab": {
          "base_uri": "https://localhost:8080/",
          "height": 206
        },
        "id": "kVezk0953J_d",
        "outputId": "51f448e1-ff8d-4e38-9db0-ef2322758716"
      },
      "execution_count": 14,
      "outputs": [
        {
          "output_type": "execute_result",
          "data": {
            "text/plain": [
              "                                              review sentiment\n",
              "0  One of the other reviewers has mentioned that ...  positive\n",
              "1  A wonderful little production. <br /><br />The...  positive\n",
              "2  I thought this was a wonderful way to spend ti...  positive\n",
              "3  Basically there's a family where a little boy ...  negative\n",
              "4  Petter Mattei's \"Love in the Time of Money\" is...  positive"
            ],
            "text/html": [
              "\n",
              "  <div id=\"df-b08b4902-e61d-4e8b-a6b8-aef86e584515\">\n",
              "    <div class=\"colab-df-container\">\n",
              "      <div>\n",
              "<style scoped>\n",
              "    .dataframe tbody tr th:only-of-type {\n",
              "        vertical-align: middle;\n",
              "    }\n",
              "\n",
              "    .dataframe tbody tr th {\n",
              "        vertical-align: top;\n",
              "    }\n",
              "\n",
              "    .dataframe thead th {\n",
              "        text-align: right;\n",
              "    }\n",
              "</style>\n",
              "<table border=\"1\" class=\"dataframe\">\n",
              "  <thead>\n",
              "    <tr style=\"text-align: right;\">\n",
              "      <th></th>\n",
              "      <th>review</th>\n",
              "      <th>sentiment</th>\n",
              "    </tr>\n",
              "  </thead>\n",
              "  <tbody>\n",
              "    <tr>\n",
              "      <th>0</th>\n",
              "      <td>One of the other reviewers has mentioned that ...</td>\n",
              "      <td>positive</td>\n",
              "    </tr>\n",
              "    <tr>\n",
              "      <th>1</th>\n",
              "      <td>A wonderful little production. &lt;br /&gt;&lt;br /&gt;The...</td>\n",
              "      <td>positive</td>\n",
              "    </tr>\n",
              "    <tr>\n",
              "      <th>2</th>\n",
              "      <td>I thought this was a wonderful way to spend ti...</td>\n",
              "      <td>positive</td>\n",
              "    </tr>\n",
              "    <tr>\n",
              "      <th>3</th>\n",
              "      <td>Basically there's a family where a little boy ...</td>\n",
              "      <td>negative</td>\n",
              "    </tr>\n",
              "    <tr>\n",
              "      <th>4</th>\n",
              "      <td>Petter Mattei's \"Love in the Time of Money\" is...</td>\n",
              "      <td>positive</td>\n",
              "    </tr>\n",
              "  </tbody>\n",
              "</table>\n",
              "</div>\n",
              "      <button class=\"colab-df-convert\" onclick=\"convertToInteractive('df-b08b4902-e61d-4e8b-a6b8-aef86e584515')\"\n",
              "              title=\"Convert this dataframe to an interactive table.\"\n",
              "              style=\"display:none;\">\n",
              "        \n",
              "  <svg xmlns=\"http://www.w3.org/2000/svg\" height=\"24px\"viewBox=\"0 0 24 24\"\n",
              "       width=\"24px\">\n",
              "    <path d=\"M0 0h24v24H0V0z\" fill=\"none\"/>\n",
              "    <path d=\"M18.56 5.44l.94 2.06.94-2.06 2.06-.94-2.06-.94-.94-2.06-.94 2.06-2.06.94zm-11 1L8.5 8.5l.94-2.06 2.06-.94-2.06-.94L8.5 2.5l-.94 2.06-2.06.94zm10 10l.94 2.06.94-2.06 2.06-.94-2.06-.94-.94-2.06-.94 2.06-2.06.94z\"/><path d=\"M17.41 7.96l-1.37-1.37c-.4-.4-.92-.59-1.43-.59-.52 0-1.04.2-1.43.59L10.3 9.45l-7.72 7.72c-.78.78-.78 2.05 0 2.83L4 21.41c.39.39.9.59 1.41.59.51 0 1.02-.2 1.41-.59l7.78-7.78 2.81-2.81c.8-.78.8-2.07 0-2.86zM5.41 20L4 18.59l7.72-7.72 1.47 1.35L5.41 20z\"/>\n",
              "  </svg>\n",
              "      </button>\n",
              "      \n",
              "  <style>\n",
              "    .colab-df-container {\n",
              "      display:flex;\n",
              "      flex-wrap:wrap;\n",
              "      gap: 12px;\n",
              "    }\n",
              "\n",
              "    .colab-df-convert {\n",
              "      background-color: #E8F0FE;\n",
              "      border: none;\n",
              "      border-radius: 50%;\n",
              "      cursor: pointer;\n",
              "      display: none;\n",
              "      fill: #1967D2;\n",
              "      height: 32px;\n",
              "      padding: 0 0 0 0;\n",
              "      width: 32px;\n",
              "    }\n",
              "\n",
              "    .colab-df-convert:hover {\n",
              "      background-color: #E2EBFA;\n",
              "      box-shadow: 0px 1px 2px rgba(60, 64, 67, 0.3), 0px 1px 3px 1px rgba(60, 64, 67, 0.15);\n",
              "      fill: #174EA6;\n",
              "    }\n",
              "\n",
              "    [theme=dark] .colab-df-convert {\n",
              "      background-color: #3B4455;\n",
              "      fill: #D2E3FC;\n",
              "    }\n",
              "\n",
              "    [theme=dark] .colab-df-convert:hover {\n",
              "      background-color: #434B5C;\n",
              "      box-shadow: 0px 1px 3px 1px rgba(0, 0, 0, 0.15);\n",
              "      filter: drop-shadow(0px 1px 2px rgba(0, 0, 0, 0.3));\n",
              "      fill: #FFFFFF;\n",
              "    }\n",
              "  </style>\n",
              "\n",
              "      <script>\n",
              "        const buttonEl =\n",
              "          document.querySelector('#df-b08b4902-e61d-4e8b-a6b8-aef86e584515 button.colab-df-convert');\n",
              "        buttonEl.style.display =\n",
              "          google.colab.kernel.accessAllowed ? 'block' : 'none';\n",
              "\n",
              "        async function convertToInteractive(key) {\n",
              "          const element = document.querySelector('#df-b08b4902-e61d-4e8b-a6b8-aef86e584515');\n",
              "          const dataTable =\n",
              "            await google.colab.kernel.invokeFunction('convertToInteractive',\n",
              "                                                     [key], {});\n",
              "          if (!dataTable) return;\n",
              "\n",
              "          const docLinkHtml = 'Like what you see? Visit the ' +\n",
              "            '<a target=\"_blank\" href=https://colab.research.google.com/notebooks/data_table.ipynb>data table notebook</a>'\n",
              "            + ' to learn more about interactive tables.';\n",
              "          element.innerHTML = '';\n",
              "          dataTable['output_type'] = 'display_data';\n",
              "          await google.colab.output.renderOutput(dataTable, element);\n",
              "          const docLink = document.createElement('div');\n",
              "          docLink.innerHTML = docLinkHtml;\n",
              "          element.appendChild(docLink);\n",
              "        }\n",
              "      </script>\n",
              "    </div>\n",
              "  </div>\n",
              "  "
            ]
          },
          "metadata": {},
          "execution_count": 14
        }
      ]
    },
    {
      "cell_type": "code",
      "source": [
        "#melakukan one hot encoding karena label berupa data karegorikal\n",
        "sentiment = pd.get_dummies(df.sentiment)\n",
        "df_baru = pd.concat([df, sentiment], axis=1)\n",
        "df_baru = df_baru.drop(columns='sentiment')\n",
        "df_baru"
      ],
      "metadata": {
        "colab": {
          "base_uri": "https://localhost:8080/",
          "height": 424
        },
        "id": "tV6Tg5O43KAn",
        "outputId": "12535f8e-3c95-41fd-9183-4ab57c7ee7fd"
      },
      "execution_count": 15,
      "outputs": [
        {
          "output_type": "execute_result",
          "data": {
            "text/plain": [
              "                                                  review  negative  positive\n",
              "0      One of the other reviewers has mentioned that ...         0         1\n",
              "1      A wonderful little production. <br /><br />The...         0         1\n",
              "2      I thought this was a wonderful way to spend ti...         0         1\n",
              "3      Basically there's a family where a little boy ...         1         0\n",
              "4      Petter Mattei's \"Love in the Time of Money\" is...         0         1\n",
              "...                                                  ...       ...       ...\n",
              "49995  I thought this movie did a down right good job...         0         1\n",
              "49996  Bad plot, bad dialogue, bad acting, idiotic di...         1         0\n",
              "49997  I am a Catholic taught in parochial elementary...         1         0\n",
              "49998  I'm going to have to disagree with the previou...         1         0\n",
              "49999  No one expects the Star Trek movies to be high...         1         0\n",
              "\n",
              "[50000 rows x 3 columns]"
            ],
            "text/html": [
              "\n",
              "  <div id=\"df-929450eb-55ca-4da0-8f08-3ac9af5d4607\">\n",
              "    <div class=\"colab-df-container\">\n",
              "      <div>\n",
              "<style scoped>\n",
              "    .dataframe tbody tr th:only-of-type {\n",
              "        vertical-align: middle;\n",
              "    }\n",
              "\n",
              "    .dataframe tbody tr th {\n",
              "        vertical-align: top;\n",
              "    }\n",
              "\n",
              "    .dataframe thead th {\n",
              "        text-align: right;\n",
              "    }\n",
              "</style>\n",
              "<table border=\"1\" class=\"dataframe\">\n",
              "  <thead>\n",
              "    <tr style=\"text-align: right;\">\n",
              "      <th></th>\n",
              "      <th>review</th>\n",
              "      <th>negative</th>\n",
              "      <th>positive</th>\n",
              "    </tr>\n",
              "  </thead>\n",
              "  <tbody>\n",
              "    <tr>\n",
              "      <th>0</th>\n",
              "      <td>One of the other reviewers has mentioned that ...</td>\n",
              "      <td>0</td>\n",
              "      <td>1</td>\n",
              "    </tr>\n",
              "    <tr>\n",
              "      <th>1</th>\n",
              "      <td>A wonderful little production. &lt;br /&gt;&lt;br /&gt;The...</td>\n",
              "      <td>0</td>\n",
              "      <td>1</td>\n",
              "    </tr>\n",
              "    <tr>\n",
              "      <th>2</th>\n",
              "      <td>I thought this was a wonderful way to spend ti...</td>\n",
              "      <td>0</td>\n",
              "      <td>1</td>\n",
              "    </tr>\n",
              "    <tr>\n",
              "      <th>3</th>\n",
              "      <td>Basically there's a family where a little boy ...</td>\n",
              "      <td>1</td>\n",
              "      <td>0</td>\n",
              "    </tr>\n",
              "    <tr>\n",
              "      <th>4</th>\n",
              "      <td>Petter Mattei's \"Love in the Time of Money\" is...</td>\n",
              "      <td>0</td>\n",
              "      <td>1</td>\n",
              "    </tr>\n",
              "    <tr>\n",
              "      <th>...</th>\n",
              "      <td>...</td>\n",
              "      <td>...</td>\n",
              "      <td>...</td>\n",
              "    </tr>\n",
              "    <tr>\n",
              "      <th>49995</th>\n",
              "      <td>I thought this movie did a down right good job...</td>\n",
              "      <td>0</td>\n",
              "      <td>1</td>\n",
              "    </tr>\n",
              "    <tr>\n",
              "      <th>49996</th>\n",
              "      <td>Bad plot, bad dialogue, bad acting, idiotic di...</td>\n",
              "      <td>1</td>\n",
              "      <td>0</td>\n",
              "    </tr>\n",
              "    <tr>\n",
              "      <th>49997</th>\n",
              "      <td>I am a Catholic taught in parochial elementary...</td>\n",
              "      <td>1</td>\n",
              "      <td>0</td>\n",
              "    </tr>\n",
              "    <tr>\n",
              "      <th>49998</th>\n",
              "      <td>I'm going to have to disagree with the previou...</td>\n",
              "      <td>1</td>\n",
              "      <td>0</td>\n",
              "    </tr>\n",
              "    <tr>\n",
              "      <th>49999</th>\n",
              "      <td>No one expects the Star Trek movies to be high...</td>\n",
              "      <td>1</td>\n",
              "      <td>0</td>\n",
              "    </tr>\n",
              "  </tbody>\n",
              "</table>\n",
              "<p>50000 rows × 3 columns</p>\n",
              "</div>\n",
              "      <button class=\"colab-df-convert\" onclick=\"convertToInteractive('df-929450eb-55ca-4da0-8f08-3ac9af5d4607')\"\n",
              "              title=\"Convert this dataframe to an interactive table.\"\n",
              "              style=\"display:none;\">\n",
              "        \n",
              "  <svg xmlns=\"http://www.w3.org/2000/svg\" height=\"24px\"viewBox=\"0 0 24 24\"\n",
              "       width=\"24px\">\n",
              "    <path d=\"M0 0h24v24H0V0z\" fill=\"none\"/>\n",
              "    <path d=\"M18.56 5.44l.94 2.06.94-2.06 2.06-.94-2.06-.94-.94-2.06-.94 2.06-2.06.94zm-11 1L8.5 8.5l.94-2.06 2.06-.94-2.06-.94L8.5 2.5l-.94 2.06-2.06.94zm10 10l.94 2.06.94-2.06 2.06-.94-2.06-.94-.94-2.06-.94 2.06-2.06.94z\"/><path d=\"M17.41 7.96l-1.37-1.37c-.4-.4-.92-.59-1.43-.59-.52 0-1.04.2-1.43.59L10.3 9.45l-7.72 7.72c-.78.78-.78 2.05 0 2.83L4 21.41c.39.39.9.59 1.41.59.51 0 1.02-.2 1.41-.59l7.78-7.78 2.81-2.81c.8-.78.8-2.07 0-2.86zM5.41 20L4 18.59l7.72-7.72 1.47 1.35L5.41 20z\"/>\n",
              "  </svg>\n",
              "      </button>\n",
              "      \n",
              "  <style>\n",
              "    .colab-df-container {\n",
              "      display:flex;\n",
              "      flex-wrap:wrap;\n",
              "      gap: 12px;\n",
              "    }\n",
              "\n",
              "    .colab-df-convert {\n",
              "      background-color: #E8F0FE;\n",
              "      border: none;\n",
              "      border-radius: 50%;\n",
              "      cursor: pointer;\n",
              "      display: none;\n",
              "      fill: #1967D2;\n",
              "      height: 32px;\n",
              "      padding: 0 0 0 0;\n",
              "      width: 32px;\n",
              "    }\n",
              "\n",
              "    .colab-df-convert:hover {\n",
              "      background-color: #E2EBFA;\n",
              "      box-shadow: 0px 1px 2px rgba(60, 64, 67, 0.3), 0px 1px 3px 1px rgba(60, 64, 67, 0.15);\n",
              "      fill: #174EA6;\n",
              "    }\n",
              "\n",
              "    [theme=dark] .colab-df-convert {\n",
              "      background-color: #3B4455;\n",
              "      fill: #D2E3FC;\n",
              "    }\n",
              "\n",
              "    [theme=dark] .colab-df-convert:hover {\n",
              "      background-color: #434B5C;\n",
              "      box-shadow: 0px 1px 3px 1px rgba(0, 0, 0, 0.15);\n",
              "      filter: drop-shadow(0px 1px 2px rgba(0, 0, 0, 0.3));\n",
              "      fill: #FFFFFF;\n",
              "    }\n",
              "  </style>\n",
              "\n",
              "      <script>\n",
              "        const buttonEl =\n",
              "          document.querySelector('#df-929450eb-55ca-4da0-8f08-3ac9af5d4607 button.colab-df-convert');\n",
              "        buttonEl.style.display =\n",
              "          google.colab.kernel.accessAllowed ? 'block' : 'none';\n",
              "\n",
              "        async function convertToInteractive(key) {\n",
              "          const element = document.querySelector('#df-929450eb-55ca-4da0-8f08-3ac9af5d4607');\n",
              "          const dataTable =\n",
              "            await google.colab.kernel.invokeFunction('convertToInteractive',\n",
              "                                                     [key], {});\n",
              "          if (!dataTable) return;\n",
              "\n",
              "          const docLinkHtml = 'Like what you see? Visit the ' +\n",
              "            '<a target=\"_blank\" href=https://colab.research.google.com/notebooks/data_table.ipynb>data table notebook</a>'\n",
              "            + ' to learn more about interactive tables.';\n",
              "          element.innerHTML = '';\n",
              "          dataTable['output_type'] = 'display_data';\n",
              "          await google.colab.output.renderOutput(dataTable, element);\n",
              "          const docLink = document.createElement('div');\n",
              "          docLink.innerHTML = docLinkHtml;\n",
              "          element.appendChild(docLink);\n",
              "        }\n",
              "      </script>\n",
              "    </div>\n",
              "  </div>\n",
              "  "
            ]
          },
          "metadata": {},
          "execution_count": 15
        }
      ]
    },
    {
      "cell_type": "code",
      "source": [
        "#mengubah nilai-nilai dari dataframe ke dalam tipe data numpy array menggunakan atribut values.\n",
        "review = df_baru['review'].values\n",
        "label = df_baru[['negative', 'positive']].values"
      ],
      "metadata": {
        "id": "q30WLhYn3KEj"
      },
      "execution_count": 16,
      "outputs": []
    },
    {
      "cell_type": "code",
      "source": [
        "#bagi data untuk data training dan data test\n",
        "review_train, review_test, label_train, label_test = train_test_split(review, label, test_size=0.2)"
      ],
      "metadata": {
        "id": "5kZ3NkM83xtZ"
      },
      "execution_count": 17,
      "outputs": []
    },
    {
      "cell_type": "code",
      "source": [
        "#melakukan tokenisasi pada data latih dan data test\n",
        "\n",
        " #tokenisasi\n",
        "tokenizer = Tokenizer(num_words=250, oov_token='x')\n",
        "tokenizer.fit_on_texts(review_train)\n",
        "tokenizer.fit_on_texts(review_test)\n",
        " \n",
        "#sequences\n",
        "sequences_train = tokenizer.texts_to_sequences(review_train)\n",
        "sequences_test = tokenizer.texts_to_sequences(review_test)\n",
        " \n",
        "#padding\n",
        "padded_train = pad_sequences(sequences_train) \n",
        "padded_test = pad_sequences(sequences_test)"
      ],
      "metadata": {
        "id": "CZ8aXQ5e3xuU"
      },
      "execution_count": 18,
      "outputs": []
    },
    {
      "cell_type": "code",
      "source": [
        "#arsitektur model\n",
        "model = tf.keras.Sequential([\n",
        "    tf.keras.layers.Embedding(input_dim=250, output_dim=16), \n",
        "    tf.keras.layers.LSTM(64),\n",
        "    tf.keras.layers.Dense(128, activation='relu'),\n",
        "    tf.keras.layers.Dropout(0.5),\n",
        "    tf.keras.layers.Dense(64, activation='relu'),\n",
        "    tf.keras.layers.Dropout(0.5),\n",
        "    tf.keras.layers.Dense(2, activation='sigmoid'),\n",
        "])\n",
        "\n",
        "#optimizer dan loss\n",
        "model.compile(loss='binary_crossentropy',optimizer='adam',metrics=['accuracy'])"
      ],
      "metadata": {
        "id": "9UyY_I2-3xyG"
      },
      "execution_count": 19,
      "outputs": []
    },
    {
      "cell_type": "code",
      "source": [
        "#callbacks\n",
        "class myCallback(tf.keras.callbacks.Callback):\n",
        "  def on_epoch_end(self, epoch, logs={}):\n",
        "    if(logs.get('accuracy')>0.85) and (logs.get('val_accuracy')>0.85):\n",
        "      print(\"\\nAkurasi telah mencapai >85%!\")\n",
        "      self.model.stop_training = True\n",
        "callbacks = myCallback()"
      ],
      "metadata": {
        "id": "MT1SrXiM3xzL"
      },
      "execution_count": 20,
      "outputs": []
    },
    {
      "cell_type": "code",
      "source": [
        "#pelatihan model\n",
        "num_epochs = 30\n",
        "history = model.fit(padded_train, label_train, epochs=num_epochs, callbacks=[callbacks], \n",
        "                    validation_data=(padded_test, label_test), verbose=2)"
      ],
      "metadata": {
        "colab": {
          "base_uri": "https://localhost:8080/"
        },
        "id": "xLvhgUcb3x2z",
        "outputId": "2354117d-71fb-422f-8930-7c0fc84e67c1"
      },
      "execution_count": 21,
      "outputs": [
        {
          "output_type": "stream",
          "name": "stdout",
          "text": [
            "Epoch 1/30\n",
            "1250/1250 - 86s - loss: 0.5957 - accuracy: 0.6773 - val_loss: 0.6867 - val_accuracy: 0.6059 - 86s/epoch - 69ms/step\n",
            "Epoch 2/30\n",
            "1250/1250 - 83s - loss: 0.6339 - accuracy: 0.6419 - val_loss: 0.6156 - val_accuracy: 0.6841 - 83s/epoch - 66ms/step\n",
            "Epoch 3/30\n",
            "1250/1250 - 85s - loss: 0.5735 - accuracy: 0.7197 - val_loss: 0.5119 - val_accuracy: 0.7485 - 85s/epoch - 68ms/step\n",
            "Epoch 4/30\n",
            "1250/1250 - 83s - loss: 0.5819 - accuracy: 0.7042 - val_loss: 0.5513 - val_accuracy: 0.7423 - 83s/epoch - 67ms/step\n",
            "Epoch 5/30\n",
            "1250/1250 - 82s - loss: 0.5739 - accuracy: 0.7066 - val_loss: 0.4918 - val_accuracy: 0.7674 - 82s/epoch - 66ms/step\n",
            "Epoch 6/30\n",
            "1250/1250 - 83s - loss: 0.5256 - accuracy: 0.7516 - val_loss: 0.5255 - val_accuracy: 0.7616 - 83s/epoch - 66ms/step\n",
            "Epoch 7/30\n",
            "1250/1250 - 83s - loss: 0.5202 - accuracy: 0.7496 - val_loss: 0.4781 - val_accuracy: 0.7625 - 83s/epoch - 67ms/step\n",
            "Epoch 8/30\n",
            "1250/1250 - 83s - loss: 0.5441 - accuracy: 0.7363 - val_loss: 0.5070 - val_accuracy: 0.7582 - 83s/epoch - 66ms/step\n",
            "Epoch 9/30\n",
            "1250/1250 - 83s - loss: 0.5795 - accuracy: 0.6929 - val_loss: 0.4881 - val_accuracy: 0.7724 - 83s/epoch - 67ms/step\n",
            "Epoch 10/30\n",
            "1250/1250 - 83s - loss: 0.4898 - accuracy: 0.7746 - val_loss: 0.4904 - val_accuracy: 0.7703 - 83s/epoch - 66ms/step\n",
            "Epoch 11/30\n",
            "1250/1250 - 83s - loss: 0.4887 - accuracy: 0.7736 - val_loss: 0.4476 - val_accuracy: 0.7936 - 83s/epoch - 67ms/step\n",
            "Epoch 12/30\n",
            "1250/1250 - 83s - loss: 0.4700 - accuracy: 0.7848 - val_loss: 0.4562 - val_accuracy: 0.7864 - 83s/epoch - 67ms/step\n",
            "Epoch 13/30\n",
            "1250/1250 - 85s - loss: 0.4624 - accuracy: 0.7882 - val_loss: 0.4328 - val_accuracy: 0.7972 - 85s/epoch - 68ms/step\n",
            "Epoch 14/30\n",
            "1250/1250 - 84s - loss: 0.4811 - accuracy: 0.7678 - val_loss: 0.4376 - val_accuracy: 0.7971 - 84s/epoch - 67ms/step\n",
            "Epoch 15/30\n",
            "1250/1250 - 83s - loss: 0.4520 - accuracy: 0.7926 - val_loss: 0.4452 - val_accuracy: 0.7898 - 83s/epoch - 67ms/step\n",
            "Epoch 16/30\n",
            "1250/1250 - 83s - loss: 0.4458 - accuracy: 0.7959 - val_loss: 0.4345 - val_accuracy: 0.8050 - 83s/epoch - 67ms/step\n",
            "Epoch 17/30\n",
            "1250/1250 - 85s - loss: 0.4389 - accuracy: 0.8004 - val_loss: 0.4208 - val_accuracy: 0.8037 - 85s/epoch - 68ms/step\n",
            "Epoch 18/30\n",
            "1250/1250 - 84s - loss: 0.4303 - accuracy: 0.8049 - val_loss: 0.4161 - val_accuracy: 0.8058 - 84s/epoch - 67ms/step\n",
            "Epoch 19/30\n",
            "1250/1250 - 83s - loss: 0.4278 - accuracy: 0.8053 - val_loss: 0.4213 - val_accuracy: 0.8043 - 83s/epoch - 66ms/step\n",
            "Epoch 20/30\n",
            "1250/1250 - 84s - loss: 0.4266 - accuracy: 0.8080 - val_loss: 0.4154 - val_accuracy: 0.8066 - 84s/epoch - 67ms/step\n",
            "Epoch 21/30\n",
            "1250/1250 - 83s - loss: 0.4205 - accuracy: 0.8117 - val_loss: 0.4162 - val_accuracy: 0.8037 - 83s/epoch - 67ms/step\n",
            "Epoch 22/30\n",
            "1250/1250 - 83s - loss: 0.4177 - accuracy: 0.8115 - val_loss: 0.4111 - val_accuracy: 0.8083 - 83s/epoch - 67ms/step\n",
            "Epoch 23/30\n",
            "1250/1250 - 83s - loss: 0.4161 - accuracy: 0.8143 - val_loss: 0.4072 - val_accuracy: 0.8098 - 83s/epoch - 67ms/step\n",
            "Epoch 24/30\n",
            "1250/1250 - 84s - loss: 0.4145 - accuracy: 0.8141 - val_loss: 0.4155 - val_accuracy: 0.7989 - 84s/epoch - 67ms/step\n",
            "Epoch 25/30\n",
            "1250/1250 - 83s - loss: 0.4102 - accuracy: 0.8157 - val_loss: 0.4044 - val_accuracy: 0.8095 - 83s/epoch - 66ms/step\n",
            "Epoch 26/30\n",
            "1250/1250 - 84s - loss: 0.4076 - accuracy: 0.8160 - val_loss: 0.4079 - val_accuracy: 0.8086 - 84s/epoch - 67ms/step\n",
            "Epoch 27/30\n",
            "1250/1250 - 84s - loss: 0.4068 - accuracy: 0.8181 - val_loss: 0.4071 - val_accuracy: 0.8056 - 84s/epoch - 67ms/step\n",
            "Epoch 28/30\n",
            "1250/1250 - 83s - loss: 0.4036 - accuracy: 0.8197 - val_loss: 0.4286 - val_accuracy: 0.8027 - 83s/epoch - 67ms/step\n",
            "Epoch 29/30\n",
            "1250/1250 - 84s - loss: 0.4013 - accuracy: 0.8215 - val_loss: 0.4007 - val_accuracy: 0.8121 - 84s/epoch - 67ms/step\n",
            "Epoch 30/30\n",
            "1250/1250 - 83s - loss: 0.3989 - accuracy: 0.8228 - val_loss: 0.4000 - val_accuracy: 0.8100 - 83s/epoch - 67ms/step\n"
          ]
        }
      ]
    },
    {
      "cell_type": "code",
      "source": [
        "#plot loss\n",
        "plt.plot(history.history['loss'])\n",
        "plt.plot(history.history['val_loss'])\n",
        "plt.title('loss')\n",
        "plt.ylabel('loss')\n",
        "plt.xlabel('epoch')\n",
        "plt.legend(['train', 'test'], loc='upper right')\n",
        "plt.show()"
      ],
      "metadata": {
        "colab": {
          "base_uri": "https://localhost:8080/",
          "height": 295
        },
        "id": "YFGSoeIb3x3m",
        "outputId": "6a6cfc1e-6fae-41e8-b64d-7154d4926451"
      },
      "execution_count": 22,
      "outputs": [
        {
          "output_type": "display_data",
          "data": {
            "text/plain": [
              "<Figure size 432x288 with 1 Axes>"
            ],
            "image/png": "[encoded data removed]"
          },
          "metadata": {
            "needs_background": "light"
          }
        }
      ]
    },
    {
      "cell_type": "code",
      "source": [
        "#plot akurasi\n",
        "plt.plot(history.history['accuracy'])\n",
        "plt.plot(history.history['val_accuracy'])\n",
        "plt.title('accuracy')\n",
        "plt.ylabel('accuracy')\n",
        "plt.xlabel('epoch')\n",
        "plt.legend(['train', 'test'], loc='upper left')\n",
        "plt.show()"
      ],
      "metadata": {
        "colab": {
          "base_uri": "https://localhost:8080/",
          "height": 295
        },
        "id": "GtjEH4XB3x7e",
        "outputId": "f5761566-7846-4c4f-f794-733d753769e2"
      },
      "execution_count": 23,
      "outputs": [
        {
          "output_type": "display_data",
          "data": {
            "text/plain": [
              "<Figure size 432x288 with 1 Axes>"
            ],
            "image/png": "[encoded data removed]"
          },
          "metadata": {
            "needs_background": "light"
          }
        }
      ]
    },
    {
      "cell_type": "code",
      "source": [],
      "metadata": {
        "id": "OlSv_lq73x8R"
      },
      "execution_count": 23,
      "outputs": []
    },
    {
      "cell_type": "code",
      "source": [],
      "metadata": {
        "id": "6lGbGy3K3yAN"
      },
      "execution_count": 23,
      "outputs": []
    },
    {
      "cell_type": "code",
      "source": [],
      "metadata": {
        "id": "lymncqlq3yBM"
      },
      "execution_count": 23,
      "outputs": []
    },
    {
      "cell_type": "code",
      "source": [],
      "metadata": {
        "id": "1hgIldA23yFH"
      },
      "execution_count": 23,
      "outputs": []
    },
    {
      "cell_type": "code",
      "source": [],
      "metadata": {
        "id": "njhwOl9f3yF_"
      },
      "execution_count": 23,
      "outputs": []
    },
    {
      "cell_type": "code",
      "source": [],
      "metadata": {
        "id": "9x1qGmQ53yJV"
      },
      "execution_count": 23,
      "outputs": []
    },
    {
      "cell_type": "code",
      "source": [],
      "metadata": {
        "id": "nsFCrNpP3yKY"
      },
      "execution_count": 23,
      "outputs": []
    },
    {
      "cell_type": "code",
      "source": [],
      "metadata": {
        "id": "-aopllpc3KFk"
      },
      "execution_count": 23,
      "outputs": []
    }
  ]
}